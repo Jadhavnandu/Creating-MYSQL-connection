{
 "cells": [
  {
   "cell_type": "code",
   "execution_count": null,
   "id": "65f3f979",
   "metadata": {},
   "outputs": [],
   "source": [
    "# Creating MYSQL connection"
   ]
  },
  {
   "cell_type": "code",
   "execution_count": 1,
   "id": "4214a483",
   "metadata": {},
   "outputs": [
    {
     "name": "stdout",
     "output_type": "stream",
     "text": [
      "<mysql.connector.connection_cext.CMySQLConnection object at 0x000001BD63907DF0>\n"
     ]
    }
   ],
   "source": [
    "import mysql.connector as sql\n",
    "connection = sql.connect(\n",
    "    host = \"localhost\",\n",
    "    user = \"root\",\n",
    "    password = \"Nandu@1906\"\n",
    ")\n",
    "print(connection)"
   ]
  },
  {
   "cell_type": "markdown",
   "id": "5e12a608",
   "metadata": {},
   "source": [
    "# CREATING  A DATABASE"
   ]
  },
  {
   "cell_type": "code",
   "execution_count": 2,
   "id": "8210a121",
   "metadata": {},
   "outputs": [],
   "source": [
    "# In order to create DB we have to take this connection and this function has conncetion which is called cursor()\n",
    "## ** This cursor actually help us to execute all the kind of query that will compatible with mysqlDA"
   ]
  },
  {
   "cell_type": "code",
   "execution_count": null,
   "id": "557359aa",
   "metadata": {},
   "outputs": [],
   "source": [
    "cursor = connection.cursor()\n",
    "cursor.execute(\"CREATE DATABASE student5\")\n",
    "cursor.execute(\"SHOW DATABASES\")# Any query you want to execute in the mysql we will use this one"
   ]
  },
  {
   "cell_type": "code",
   "execution_count": null,
   "id": "4ad3bc2a",
   "metadata": {},
   "outputs": [],
   "source": [
    "for database in cursor:\n",
    "    print(database)"
   ]
  },
  {
   "cell_type": "code",
   "execution_count": null,
   "id": "d12bd383",
   "metadata": {},
   "outputs": [],
   "source": [
    "# cursor = connection.cursor()\n",
    "# cursor.execute(\"DROP DATABASE nandu3\")\n",
    "# cursor.execute(\"SHOW DATABASES\")"
   ]
  },
  {
   "cell_type": "code",
   "execution_count": null,
   "id": "d4f90bf0",
   "metadata": {},
   "outputs": [],
   "source": [
    "# for database in cursor:\n",
    "#     print(database)"
   ]
  },
  {
   "cell_type": "code",
   "execution_count": null,
   "id": "2d8fe332",
   "metadata": {},
   "outputs": [],
   "source": [
    "# cursor = connection.cursor()\n",
    "# cursor.execute(\"CREATE DATABASE nandu4\")\n",
    "# cursor.execute(\"SHOW DATABASES\")"
   ]
  },
  {
   "cell_type": "code",
   "execution_count": null,
   "id": "d16cad79",
   "metadata": {},
   "outputs": [],
   "source": [
    "# for database in cursor:print(database)"
   ]
  },
  {
   "cell_type": "markdown",
   "id": "465b4e0d",
   "metadata": {},
   "source": [
    "### CREATING TABLES AND INSERTING RECORDS"
   ]
  },
  {
   "cell_type": "code",
   "execution_count": null,
   "id": "7fb7883e",
   "metadata": {},
   "outputs": [],
   "source": [
    "import mysql.connector as sql\n",
    "connection = sql.connect(\n",
    "    host = \"localhost\",\n",
    "    user = \"root\",\n",
    "    password = \"Nandu@1906\",\n",
    "    database = \"student3\"\n",
    ")\n",
    "print(connection) #If you want to connect to a specific database inside a sql server you have to use this parameter \n",
    "#that is a additional parameter that is called as database=\" nandu3\"\n"
   ]
  },
  {
   "cell_type": "markdown",
   "id": "3a21de36",
   "metadata": {},
   "source": [
    "#### CREATE TABLE IN MY SQL"
   ]
  },
  {
   "cell_type": "code",
   "execution_count": null,
   "id": "45a951c4",
   "metadata": {},
   "outputs": [],
   "source": [
    "cursor = connection.cursor()\n",
    "\n",
    "cursor.execute(\"CREATE TABLE studentinfo1 (id INT AUTO_INCREMENT PRIMARY KEY, name VARCHAR(255), subject VARCHAR(255))\")"
   ]
  },
  {
   "cell_type": "markdown",
   "id": "14e43267",
   "metadata": {},
   "source": [
    "#### INSERT RECORDS IN MY TABALE"
   ]
  },
  {
   "cell_type": "code",
   "execution_count": null,
   "id": "178baad4",
   "metadata": {},
   "outputs": [],
   "source": [
    "query = \"INSERT INTO studentinfo1(name,subject) values(%s, %s)\"\n",
    "print(\"Row inserted\",cursor.lastrowid)"
   ]
  },
  {
   "cell_type": "code",
   "execution_count": null,
   "id": "0fabcf5f",
   "metadata": {
    "scrolled": true
   },
   "outputs": [],
   "source": [
    "# ## Insert multiple records in Table\n",
    "# query = \"INSERT INTO studentinfo (name, subject) VALUES (%s, %s)\"\n",
    "# values = [(\"Nandu\", \"Lovesindhu\"),\n",
    "#         (\"Indhu\", \"lovesnandu\"),\n",
    "#         (\"nida\",\"Data Science\"),\n",
    "#         (\"rahul\",\"Data Engineer\"),\n",
    "#         (\"Alok\",\"Senior python developer\"),\n",
    "#         (\"Vinay\",\"Data Science\")]\n",
    "# cursor.executemany(query,values)\n",
    "# print(\"Row inserted\",cursor.lastrowid)s, %s"
   ]
  },
  {
   "cell_type": "code",
   "execution_count": null,
   "id": "032eac92",
   "metadata": {},
   "outputs": [],
   "source": [
    "query = \" INSERT INTO studentinfo(name,subject) VALUES (%s, %s)\"\n",
    "values = [(\"Nandu\",Datascience),\n",
    "          (\"Indhu\",datascience),\n",
    "         ]"
   ]
  }
 ],
 "metadata": {
  "kernelspec": {
   "display_name": "Python 3 (ipykernel)",
   "language": "python",
   "name": "python3"
  },
  "language_info": {
   "codemirror_mode": {
    "name": "ipython",
    "version": 3
   },
   "file_extension": ".py",
   "mimetype": "text/x-python",
   "name": "python",
   "nbconvert_exporter": "python",
   "pygments_lexer": "ipython3",
   "version": "3.9.12"
  }
 },
 "nbformat": 4,
 "nbformat_minor": 5
}
