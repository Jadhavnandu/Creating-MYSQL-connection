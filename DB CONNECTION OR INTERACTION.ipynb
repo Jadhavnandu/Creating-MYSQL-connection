{
 "cells": [
  {
   "cell_type": "code",
   "execution_count": 1,
   "id": "b9359d1a",
   "metadata": {},
   "outputs": [
    {
     "name": "stdout",
     "output_type": "stream",
     "text": [
      "Requirement already satisfied: psycopg2 in c:\\users\\thinkpad\\anaconda3\\lib\\site-packages (2.9.3)Note: you may need to restart the kernel to use updated packages.\n",
      "\n"
     ]
    }
   ],
   "source": [
    "pip install psycopg2"
   ]
  },
  {
   "cell_type": "code",
   "execution_count": 2,
   "id": "3bcbc8bf",
   "metadata": {},
   "outputs": [],
   "source": [
    "import psycopg2\n",
    "conn=psycopg2.connect(host=\"localhost\",\n",
    "                      port=\"5432\",\n",
    "                      database=\"postgres\",\n",
    "                      user=\"postgres\",\n",
    "                      password=\"Nandu@1906\"\n",
    "                      \n",
    "        )\n",
    "cursor=conn.cursor()\n",
    "query=\"CREATE TABLE student(name VARCHAR ,school VARCHAR)\"\n",
    "cursor.execute(query)\n",
    "conn.commit()\n",
    "cursor.close()\n",
    "conn.close()\n"
   ]
  },
  {
   "cell_type": "code",
   "execution_count": null,
   "id": "f10ee943",
   "metadata": {},
   "outputs": [],
   "source": []
  }
 ],
 "metadata": {
  "kernelspec": {
   "display_name": "Python 3 (ipykernel)",
   "language": "python",
   "name": "python3"
  },
  "language_info": {
   "codemirror_mode": {
    "name": "ipython",
    "version": 3
   },
   "file_extension": ".py",
   "mimetype": "text/x-python",
   "name": "python",
   "nbconvert_exporter": "python",
   "pygments_lexer": "ipython3",
   "version": "3.9.12"
  }
 },
 "nbformat": 4,
 "nbformat_minor": 5
}
